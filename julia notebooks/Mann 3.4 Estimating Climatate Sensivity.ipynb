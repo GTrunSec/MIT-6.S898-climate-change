{
 "cells": [
  {
   "cell_type": "markdown",
   "metadata": {},
   "source": [
    "## Code for Module 3.4 of EdX Class Climate Change: The Science and Global Impact\n",
    "\n",
    "with timestamps from Mann video"
   ]
  },
  {
   "cell_type": "code",
   "execution_count": 3,
   "metadata": {},
   "outputs": [],
   "source": [
    "using Unitful"
   ]
  },
  {
   "cell_type": "markdown",
   "metadata": {},
   "source": [
    "## 1. Material derived in Module 3.2"
   ]
  },
  {
   "cell_type": "code",
   "execution_count": 4,
   "metadata": {},
   "outputs": [],
   "source": [
    "S = 1370u\"W/m^2\" \n",
    "α = .32;\n",
    "absorbed = (1-α) * S/4;"
   ]
  },
  {
   "cell_type": "markdown",
   "metadata": {},
   "source": [
    "## 2 Use a new linear model pulled from a hat that takes into account greehouse "
   ]
  },
  {
   "cell_type": "code",
   "execution_count": 5,
   "metadata": {},
   "outputs": [
    {
     "data": {
      "text/plain": [
       "1.25 W K^-1 m^-2"
      ]
     },
     "execution_count": 5,
     "metadata": {},
     "output_type": "execute_result"
    }
   ],
   "source": [
    "A = 214.4u\"W/m^2\" # (2:57)\n",
    "B = 1.25u\"W/m^2/K\""
   ]
  },
  {
   "cell_type": "code",
   "execution_count": 8,
   "metadata": {},
   "outputs": [
    {
     "data": {
      "text/plain": [
       "287.79999999999995 K"
      ]
     },
     "execution_count": 8,
     "metadata": {},
     "output_type": "execute_result"
    }
   ],
   "source": [
    "Linearized_Surface_Temperature = (absorbed-A)/B + (273u\"K\")"
   ]
  },
  {
   "cell_type": "code",
   "execution_count": 13,
   "metadata": {},
   "outputs": [
    {
     "data": {
      "text/plain": [
       "58.36999999999995 °F"
      ]
     },
     "execution_count": 13,
     "metadata": {},
     "output_type": "execute_result"
    }
   ],
   "source": [
    "uconvert(u\"°F\",Linearized_Surface_Temperature)"
   ]
  },
  {
   "cell_type": "markdown",
   "metadata": {},
   "source": [
    "I was wondering if this new A and B were a linearization of ϵ * σ * Ts⁴ as the video suggests.  If so the two numbers below would be equal from simple calculus"
   ]
  },
  {
   "cell_type": "code",
   "execution_count": 21,
   "metadata": {},
   "outputs": [
    {
     "data": {
      "text/plain": [
       "(247.97644550511214 K, 176.63997215805435 K)"
      ]
     },
     "execution_count": 21,
     "metadata": {},
     "output_type": "execute_result"
    }
   ],
   "source": [
    "σ = 5.67e-8u\"W/m^2/K^4\"\n",
    "ϵ = 1 ;\n",
    "(A/(σ*ϵ))^(1/4) ,(B/(4*σ*ϵ))^(1/3)"
   ]
  },
  {
   "cell_type": "markdown",
   "metadata": {},
   "source": [
    "They are not.  Oh well.    "
   ]
  },
  {
   "cell_type": "markdown",
   "metadata": {},
   "source": [
    "## 3. Equilibrium Climate Sensitivity"
   ]
  },
  {
   "cell_type": "markdown",
   "metadata": {},
   "source": [
    "Now absorbed is  generalized to Fin and emitted is A+BT  instead of Stefan Boltzmann where some (A,B) is used\n",
    "so absorbed = emitted reads Fin = A+BT or <br>\n",
    "T = (Fin-A)/B = Fin/B - A/B (4:52) <br>\n",
    "dT/dFin = 1/B (6:04)"
   ]
  },
  {
   "cell_type": "markdown",
   "metadata": {},
   "source": [
    "## 4. Sensitivity to CO2 concentration"
   ]
  },
  {
   "cell_type": "markdown",
   "metadata": {},
   "source": [
    "Before the Fin only came from the sun in the form of shortwave radiation.  We can now add to that the longwave radiation that bounces back to the earth in the form of CO2.  We do this by taking the empirical equation: <br>\n",
    "\n",
    " ΔFin =  5.35 Δ(log(CO2)) (7:23)"
   ]
  },
  {
   "cell_type": "markdown",
   "metadata": {},
   "source": [
    "## 5. Consider Doubling as we may go from pre-industrial 280 to 560 in just a few decades \n",
    "(we are at 400 in 2019)"
   ]
  },
  {
   "cell_type": "code",
   "execution_count": 30,
   "metadata": {},
   "outputs": [
    {
     "data": {
      "text/plain": [
       "3.708337415995707 W m^-2"
      ]
     },
     "execution_count": 30,
     "metadata": {},
     "output_type": "execute_result"
    }
   ],
   "source": [
    "ΔF = 5.35 * log(2) * u\"W/m^2\" # ΔF with C)2 doubling  (8:54)"
   ]
  },
  {
   "cell_type": "code",
   "execution_count": 37,
   "metadata": {},
   "outputs": [
    {
     "data": {
      "text/plain": [
       "2.9666699327965658 K"
      ]
     },
     "execution_count": 37,
     "metadata": {},
     "output_type": "execute_result"
    }
   ],
   "source": [
    "ΔT = ΔF / B"
   ]
  },
  {
   "cell_type": "markdown",
   "metadata": {},
   "source": [
    "The B from the black body by contrast was 4.61 which would have given"
   ]
  },
  {
   "cell_type": "code",
   "execution_count": 40,
   "metadata": {},
   "outputs": [
    {
     "data": {
      "text/plain": [
       "0.8044115869838844 K"
      ]
     },
     "execution_count": 40,
     "metadata": {},
     "output_type": "execute_result"
    }
   ],
   "source": [
    "ΔF  / 4.61u\"W/(K*m^2)\" (10:16 which has formatting issues on the video)"
   ]
  },
  {
   "cell_type": "code",
   "execution_count": null,
   "metadata": {},
   "outputs": [],
   "source": []
  }
 ],
 "metadata": {
  "kernelspec": {
   "display_name": "Julia 1.2.0",
   "language": "julia",
   "name": "julia-1.2"
  },
  "language_info": {
   "file_extension": ".jl",
   "mimetype": "application/julia",
   "name": "julia",
   "version": "1.2.0"
  }
 },
 "nbformat": 4,
 "nbformat_minor": 2
}
